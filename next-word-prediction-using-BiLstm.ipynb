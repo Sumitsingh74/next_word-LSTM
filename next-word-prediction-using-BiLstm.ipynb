{
 "cells": [
  {
   "cell_type": "code",
   "execution_count": 1,
   "id": "277c58c8",
   "metadata": {
    "_cell_guid": "b1076dfc-b9ad-4769-8c92-a6c4dae69d19",
    "_uuid": "8f2839f25d086af736a60e9eeb907d3b93b6e0e5",
    "execution": {
     "iopub.execute_input": "2025-04-11T15:36:37.172824Z",
     "iopub.status.busy": "2025-04-11T15:36:37.172375Z",
     "iopub.status.idle": "2025-04-11T15:36:38.140658Z",
     "shell.execute_reply": "2025-04-11T15:36:38.138572Z"
    },
    "papermill": {
     "duration": 0.978084,
     "end_time": "2025-04-11T15:36:38.143271",
     "exception": false,
     "start_time": "2025-04-11T15:36:37.165187",
     "status": "completed"
    },
    "tags": []
   },
   "outputs": [
    {
     "name": "stdout",
     "output_type": "stream",
     "text": [
      "/kaggle/input/next-word-prediction/1661-0.txt\n"
     ]
    }
   ],
   "source": [
    "# This Python 3 environment comes with many helpful analytics libraries installed\n",
    "# It is defined by the kaggle/python Docker image: https://github.com/kaggle/docker-python\n",
    "# For example, here's several helpful packages to load\n",
    "\n",
    "import numpy as np # linear algebra\n",
    "import pandas as pd # data processing, CSV file I/O (e.g. pd.read_csv)\n",
    "\n",
    "# Input data files are available in the read-only \"../input/\" directory\n",
    "# For example, running this (by clicking run or pressing Shift+Enter) will list all files under the input directory\n",
    "\n",
    "import os\n",
    "for dirname, _, filenames in os.walk('/kaggle/input'):\n",
    "    for filename in filenames:\n",
    "        print(os.path.join(dirname, filename))\n",
    "\n",
    "# You can write up to 20GB to the current directory (/kaggle/working/) that gets preserved as output when you create a version using \"Save & Run All\" \n",
    "# You can also write temporary files to /kaggle/temp/, but they won't be saved outside of the current session"
   ]
  },
  {
   "cell_type": "code",
   "execution_count": 2,
   "id": "22db6360",
   "metadata": {
    "execution": {
     "iopub.execute_input": "2025-04-11T15:36:38.157476Z",
     "iopub.status.busy": "2025-04-11T15:36:38.156893Z",
     "iopub.status.idle": "2025-04-11T15:36:55.412509Z",
     "shell.execute_reply": "2025-04-11T15:36:55.411138Z"
    },
    "papermill": {
     "duration": 17.264673,
     "end_time": "2025-04-11T15:36:55.415166",
     "exception": false,
     "start_time": "2025-04-11T15:36:38.150493",
     "status": "completed"
    },
    "tags": []
   },
   "outputs": [],
   "source": [
    "import tensorflow as tf\n",
    "from tensorflow.keras.layers import LSTM,Embedding,Dense,Dropout,BatchNormalization\n",
    "from tensorflow.keras.preprocessing.sequence import pad_sequences\n",
    "import re\n",
    "from tensorflow.keras.preprocessing.text import Tokenizer\n",
    "from tensorflow.keras.models import Sequential\n",
    "import nltk\n",
    "from nltk.tokenize import word_tokenize,sent_tokenize\n",
    "from tensorflow.keras.utils import to_categorical"
   ]
  },
  {
   "cell_type": "code",
   "execution_count": 3,
   "id": "dbd8d1a8",
   "metadata": {
    "execution": {
     "iopub.execute_input": "2025-04-11T15:36:55.434533Z",
     "iopub.status.busy": "2025-04-11T15:36:55.433841Z",
     "iopub.status.idle": "2025-04-11T15:36:55.475876Z",
     "shell.execute_reply": "2025-04-11T15:36:55.474882Z"
    },
    "papermill": {
     "duration": 0.050266,
     "end_time": "2025-04-11T15:36:55.477863",
     "exception": false,
     "start_time": "2025-04-11T15:36:55.427597",
     "status": "completed"
    },
    "tags": []
   },
   "outputs": [],
   "source": [
    "sent = pd.read_csv('/kaggle/input/next-word-prediction/1661-0.txt',delimiter=',', on_bad_lines='skip')"
   ]
  },
  {
   "cell_type": "code",
   "execution_count": 4,
   "id": "21807cd3",
   "metadata": {
    "execution": {
     "iopub.execute_input": "2025-04-11T15:36:55.490336Z",
     "iopub.status.busy": "2025-04-11T15:36:55.489967Z",
     "iopub.status.idle": "2025-04-11T15:36:55.520044Z",
     "shell.execute_reply": "2025-04-11T15:36:55.518806Z"
    },
    "papermill": {
     "duration": 0.038179,
     "end_time": "2025-04-11T15:36:55.521781",
     "exception": false,
     "start_time": "2025-04-11T15:36:55.483602",
     "status": "completed"
    },
    "tags": []
   },
   "outputs": [
    {
     "data": {
      "text/html": [
       "<div>\n",
       "<style scoped>\n",
       "    .dataframe tbody tr th:only-of-type {\n",
       "        vertical-align: middle;\n",
       "    }\n",
       "\n",
       "    .dataframe tbody tr th {\n",
       "        vertical-align: top;\n",
       "    }\n",
       "\n",
       "    .dataframe thead th {\n",
       "        text-align: right;\n",
       "    }\n",
       "</style>\n",
       "<table border=\"1\" class=\"dataframe\">\n",
       "  <thead>\n",
       "    <tr style=\"text-align: right;\">\n",
       "      <th></th>\n",
       "      <th>Project Gutenberg's The Adventures of Sherlock Holmes</th>\n",
       "      <th>by Arthur Conan Doyle</th>\n",
       "    </tr>\n",
       "  </thead>\n",
       "  <tbody>\n",
       "    <tr>\n",
       "      <th>0</th>\n",
       "      <td>This eBook is for the use of anyone anywhere a...</td>\n",
       "      <td>NaN</td>\n",
       "    </tr>\n",
       "    <tr>\n",
       "      <th>1</th>\n",
       "      <td>almost no restrictions whatsoever.  You may co...</td>\n",
       "      <td>give it away or</td>\n",
       "    </tr>\n",
       "    <tr>\n",
       "      <th>2</th>\n",
       "      <td>re-use it under the terms of the Project Guten...</td>\n",
       "      <td>NaN</td>\n",
       "    </tr>\n",
       "    <tr>\n",
       "      <th>3</th>\n",
       "      <td>with this eBook or online at www.gutenberg.net</td>\n",
       "      <td>NaN</td>\n",
       "    </tr>\n",
       "    <tr>\n",
       "      <th>4</th>\n",
       "      <td>Title: The Adventures of Sherlock Holmes</td>\n",
       "      <td>NaN</td>\n",
       "    </tr>\n",
       "    <tr>\n",
       "      <th>...</th>\n",
       "      <td>...</td>\n",
       "      <td>...</td>\n",
       "    </tr>\n",
       "    <tr>\n",
       "      <th>7655</th>\n",
       "      <td>Most people start at our Web site which has th...</td>\n",
       "      <td>NaN</td>\n",
       "    </tr>\n",
       "    <tr>\n",
       "      <th>7656</th>\n",
       "      <td>facility: www.gutenberg.org</td>\n",
       "      <td>NaN</td>\n",
       "    </tr>\n",
       "    <tr>\n",
       "      <th>7657</th>\n",
       "      <td>This Web site includes information about Proje...</td>\n",
       "      <td>NaN</td>\n",
       "    </tr>\n",
       "    <tr>\n",
       "      <th>7658</th>\n",
       "      <td>including how to make donations to the Project...</td>\n",
       "      <td>NaN</td>\n",
       "    </tr>\n",
       "    <tr>\n",
       "      <th>7659</th>\n",
       "      <td>subscribe to our email newsletter to hear abou...</td>\n",
       "      <td>NaN</td>\n",
       "    </tr>\n",
       "  </tbody>\n",
       "</table>\n",
       "<p>7660 rows × 2 columns</p>\n",
       "</div>"
      ],
      "text/plain": [
       "     Project Gutenberg's The Adventures of Sherlock Holmes  \\\n",
       "0     This eBook is for the use of anyone anywhere a...      \n",
       "1     almost no restrictions whatsoever.  You may co...      \n",
       "2     re-use it under the terms of the Project Guten...      \n",
       "3        with this eBook or online at www.gutenberg.net      \n",
       "4              Title: The Adventures of Sherlock Holmes      \n",
       "...                                                 ...      \n",
       "7655  Most people start at our Web site which has th...      \n",
       "7656                        facility: www.gutenberg.org      \n",
       "7657  This Web site includes information about Proje...      \n",
       "7658  including how to make donations to the Project...      \n",
       "7659  subscribe to our email newsletter to hear abou...      \n",
       "\n",
       "      by Arthur Conan Doyle  \n",
       "0                       NaN  \n",
       "1           give it away or  \n",
       "2                       NaN  \n",
       "3                       NaN  \n",
       "4                       NaN  \n",
       "...                     ...  \n",
       "7655                    NaN  \n",
       "7656                    NaN  \n",
       "7657                    NaN  \n",
       "7658                    NaN  \n",
       "7659                    NaN  \n",
       "\n",
       "[7660 rows x 2 columns]"
      ]
     },
     "execution_count": 4,
     "metadata": {},
     "output_type": "execute_result"
    }
   ],
   "source": [
    "sent"
   ]
  },
  {
   "cell_type": "code",
   "execution_count": 5,
   "id": "a364eb97",
   "metadata": {
    "execution": {
     "iopub.execute_input": "2025-04-11T15:36:55.534672Z",
     "iopub.status.busy": "2025-04-11T15:36:55.534327Z",
     "iopub.status.idle": "2025-04-11T15:36:55.561104Z",
     "shell.execute_reply": "2025-04-11T15:36:55.559572Z"
    },
    "papermill": {
     "duration": 0.035244,
     "end_time": "2025-04-11T15:36:55.563051",
     "exception": false,
     "start_time": "2025-04-11T15:36:55.527807",
     "status": "completed"
    },
    "tags": []
   },
   "outputs": [
    {
     "name": "stdout",
     "output_type": "stream",
     "text": [
      "<class 'pandas.core.frame.DataFrame'>\n",
      "RangeIndex: 7660 entries, 0 to 7659\n",
      "Data columns (total 2 columns):\n",
      " #   Column                                                 Non-Null Count  Dtype \n",
      "---  ------                                                 --------------  ----- \n",
      " 0   Project Gutenberg's The Adventures of Sherlock Holmes  7660 non-null   object\n",
      " 1    by Arthur Conan Doyle                                 3039 non-null   object\n",
      "dtypes: object(2)\n",
      "memory usage: 119.8+ KB\n"
     ]
    }
   ],
   "source": [
    "sent.info()"
   ]
  },
  {
   "cell_type": "code",
   "execution_count": 6,
   "id": "1fa7f55f",
   "metadata": {
    "execution": {
     "iopub.execute_input": "2025-04-11T15:36:55.576084Z",
     "iopub.status.busy": "2025-04-11T15:36:55.575628Z",
     "iopub.status.idle": "2025-04-11T15:36:55.591225Z",
     "shell.execute_reply": "2025-04-11T15:36:55.590093Z"
    },
    "papermill": {
     "duration": 0.024446,
     "end_time": "2025-04-11T15:36:55.593170",
     "exception": false,
     "start_time": "2025-04-11T15:36:55.568724",
     "status": "completed"
    },
    "tags": []
   },
   "outputs": [],
   "source": [
    "file_path = '/kaggle/input/next-word-prediction/1661-0.txt'\n",
    "with open(file_path, 'r', encoding='utf-8') as file:\n",
    "    lines = file.readlines()\n",
    "    sentence = \"\".join(lines)"
   ]
  },
  {
   "cell_type": "code",
   "execution_count": 7,
   "id": "9f53bbec",
   "metadata": {
    "execution": {
     "iopub.execute_input": "2025-04-11T15:36:55.606826Z",
     "iopub.status.busy": "2025-04-11T15:36:55.606328Z",
     "iopub.status.idle": "2025-04-11T15:36:55.612608Z",
     "shell.execute_reply": "2025-04-11T15:36:55.611464Z"
    },
    "papermill": {
     "duration": 0.015951,
     "end_time": "2025-04-11T15:36:55.614930",
     "exception": false,
     "start_time": "2025-04-11T15:36:55.598979",
     "status": "completed"
    },
    "tags": []
   },
   "outputs": [
    {
     "data": {
      "text/plain": [
       "str"
      ]
     },
     "execution_count": 7,
     "metadata": {},
     "output_type": "execute_result"
    }
   ],
   "source": [
    "type(sentence)"
   ]
  },
  {
   "cell_type": "code",
   "execution_count": 8,
   "id": "3b9bf4a1",
   "metadata": {
    "execution": {
     "iopub.execute_input": "2025-04-11T15:36:55.629078Z",
     "iopub.status.busy": "2025-04-11T15:36:55.628613Z",
     "iopub.status.idle": "2025-04-11T15:36:55.698262Z",
     "shell.execute_reply": "2025-04-11T15:36:55.697199Z"
    },
    "papermill": {
     "duration": 0.079337,
     "end_time": "2025-04-11T15:36:55.700015",
     "exception": false,
     "start_time": "2025-04-11T15:36:55.620678",
     "status": "completed"
    },
    "tags": []
   },
   "outputs": [
    {
     "data": {
      "text/plain": [
       "\"Project Gutenberg's The Adventures of Sherlock Holmes, by Arthur Conan Doyle This eBook is for the u\""
      ]
     },
     "execution_count": 8,
     "metadata": {},
     "output_type": "execute_result"
    }
   ],
   "source": [
    "#removing special characters and adjusting spacing\n",
    "cleaned_text = re.sub(r'[^\\x00-\\x7F]+', '', sentence)\n",
    "cleaned_text = cleaned_text.replace('\\n',' ').replace('\\r','')\n",
    "cleaned_text = re.sub('\\s+',' ',cleaned_text).strip()\n",
    "cleaned_text[:100]"
   ]
  },
  {
   "cell_type": "code",
   "execution_count": 9,
   "id": "edb02cfd",
   "metadata": {
    "execution": {
     "iopub.execute_input": "2025-04-11T15:36:55.712892Z",
     "iopub.status.busy": "2025-04-11T15:36:55.712546Z",
     "iopub.status.idle": "2025-04-11T15:36:55.880004Z",
     "shell.execute_reply": "2025-04-11T15:36:55.879038Z"
    },
    "papermill": {
     "duration": 0.175953,
     "end_time": "2025-04-11T15:36:55.881774",
     "exception": false,
     "start_time": "2025-04-11T15:36:55.705821",
     "status": "completed"
    },
    "tags": []
   },
   "outputs": [
    {
     "name": "stdout",
     "output_type": "stream",
     "text": [
      "[nltk_data] Downloading package punkt to /usr/share/nltk_data...\n",
      "[nltk_data]   Package punkt is already up-to-date!\n"
     ]
    },
    {
     "data": {
      "text/plain": [
       "True"
      ]
     },
     "execution_count": 9,
     "metadata": {},
     "output_type": "execute_result"
    }
   ],
   "source": [
    "#performing tokenization\n",
    "nltk.download('punkt')"
   ]
  },
  {
   "cell_type": "code",
   "execution_count": 10,
   "id": "747d214c",
   "metadata": {
    "execution": {
     "iopub.execute_input": "2025-04-11T15:36:55.894813Z",
     "iopub.status.busy": "2025-04-11T15:36:55.894434Z",
     "iopub.status.idle": "2025-04-11T15:36:56.042610Z",
     "shell.execute_reply": "2025-04-11T15:36:56.041510Z"
    },
    "papermill": {
     "duration": 0.156957,
     "end_time": "2025-04-11T15:36:56.044750",
     "exception": false,
     "start_time": "2025-04-11T15:36:55.887793",
     "status": "completed"
    },
    "tags": []
   },
   "outputs": [],
   "source": [
    "tokenizer = Tokenizer()\n",
    "tokenizer.fit_on_texts([sentence])\n",
    "len(tokenizer.word_index)\n",
    "\n",
    "sequence_length = 5\n",
    "sequences = []\n",
    "targets = []\n",
    "vocabulary = set()\n",
    "\n",
    "for sentence in sent:\n",
    "    tokens = word_tokenize(sentence)\n",
    "    vocabulary.update(tokens)\n",
    "    \n",
    "vocabulary = sorted(list(vocabulary))\n",
    "word_index = {word: index for index,word in enumerate(vocabulary)}\n",
    "index_word = {index: word for word,index in word_index.items()}\n",
    "vocab_size = len(vocabulary)"
   ]
  },
  {
   "cell_type": "code",
   "execution_count": 11,
   "id": "8c0ab743",
   "metadata": {
    "execution": {
     "iopub.execute_input": "2025-04-11T15:36:56.057908Z",
     "iopub.status.busy": "2025-04-11T15:36:56.057537Z",
     "iopub.status.idle": "2025-04-11T15:36:56.457336Z",
     "shell.execute_reply": "2025-04-11T15:36:56.456193Z"
    },
    "papermill": {
     "duration": 0.408487,
     "end_time": "2025-04-11T15:36:56.459183",
     "exception": false,
     "start_time": "2025-04-11T15:36:56.050696",
     "status": "completed"
    },
    "tags": []
   },
   "outputs": [],
   "source": [
    "faqs=cleaned_text.split('. ')\n",
    "\n",
    "input_sequences = []\n",
    "for sentence in faqs:\n",
    "  tokenized_sentence = tokenizer.texts_to_sequences([sentence])[0]\n",
    "\n",
    "  for i in range(1,len(tokenized_sentence)):\n",
    "    input_sequences.append(tokenized_sentence[:i+1])"
   ]
  },
  {
   "cell_type": "code",
   "execution_count": 12,
   "id": "ca7f90c1",
   "metadata": {
    "execution": {
     "iopub.execute_input": "2025-04-11T15:36:56.472043Z",
     "iopub.status.busy": "2025-04-11T15:36:56.471659Z",
     "iopub.status.idle": "2025-04-11T15:36:56.477001Z",
     "shell.execute_reply": "2025-04-11T15:36:56.476072Z"
    },
    "papermill": {
     "duration": 0.013512,
     "end_time": "2025-04-11T15:36:56.478634",
     "exception": false,
     "start_time": "2025-04-11T15:36:56.465122",
     "status": "completed"
    },
    "tags": []
   },
   "outputs": [
    {
     "data": {
      "text/plain": [
       "101544"
      ]
     },
     "execution_count": 12,
     "metadata": {},
     "output_type": "execute_result"
    }
   ],
   "source": [
    "len(input_sequences)"
   ]
  },
  {
   "cell_type": "code",
   "execution_count": 13,
   "id": "24ec5f47",
   "metadata": {
    "execution": {
     "iopub.execute_input": "2025-04-11T15:36:56.491696Z",
     "iopub.status.busy": "2025-04-11T15:36:56.491367Z",
     "iopub.status.idle": "2025-04-11T15:36:56.821781Z",
     "shell.execute_reply": "2025-04-11T15:36:56.820454Z"
    },
    "papermill": {
     "duration": 0.339033,
     "end_time": "2025-04-11T15:36:56.823629",
     "exception": false,
     "start_time": "2025-04-11T15:36:56.484596",
     "status": "completed"
    },
    "tags": []
   },
   "outputs": [
    {
     "name": "stdout",
     "output_type": "stream",
     "text": [
      "105\n",
      "(101544, 105)\n"
     ]
    }
   ],
   "source": [
    "max_len = max([len(x) for x in input_sequences])\n",
    "print(max_len)\n",
    "from tensorflow.keras.preprocessing.sequence import pad_sequences\n",
    "padded_input_sequences = pad_sequences(input_sequences, maxlen = max_len, padding='pre')\n",
    "print(padded_input_sequences.shape)"
   ]
  },
  {
   "cell_type": "code",
   "execution_count": 14,
   "id": "a641f1f4",
   "metadata": {
    "execution": {
     "iopub.execute_input": "2025-04-11T15:36:56.837087Z",
     "iopub.status.busy": "2025-04-11T15:36:56.836665Z",
     "iopub.status.idle": "2025-04-11T15:36:56.841202Z",
     "shell.execute_reply": "2025-04-11T15:36:56.840051Z"
    },
    "papermill": {
     "duration": 0.013263,
     "end_time": "2025-04-11T15:36:56.842995",
     "exception": false,
     "start_time": "2025-04-11T15:36:56.829732",
     "status": "completed"
    },
    "tags": []
   },
   "outputs": [],
   "source": [
    "X = padded_input_sequences[:,:-1]\n",
    "y = padded_input_sequences[:,-1]"
   ]
  },
  {
   "cell_type": "code",
   "execution_count": 15,
   "id": "bdb871d4",
   "metadata": {
    "execution": {
     "iopub.execute_input": "2025-04-11T15:36:56.856697Z",
     "iopub.status.busy": "2025-04-11T15:36:56.856366Z",
     "iopub.status.idle": "2025-04-11T15:36:57.216611Z",
     "shell.execute_reply": "2025-04-11T15:36:57.215533Z"
    },
    "papermill": {
     "duration": 0.369273,
     "end_time": "2025-04-11T15:36:57.218595",
     "exception": false,
     "start_time": "2025-04-11T15:36:56.849322",
     "status": "completed"
    },
    "tags": []
   },
   "outputs": [
    {
     "name": "stdout",
     "output_type": "stream",
     "text": [
      "(101544, 8932)\n"
     ]
    }
   ],
   "source": [
    "from tensorflow.keras.utils import to_categorical\n",
    "\n",
    "# One-hot encode the labels\n",
    "y = to_categorical(y, num_classes=8932)\n",
    "\n",
    "# Print the shape of the one-hot encoded labels\n",
    "print(y.shape)\n"
   ]
  },
  {
   "cell_type": "code",
   "execution_count": 16,
   "id": "ed9d5bd4",
   "metadata": {
    "execution": {
     "iopub.execute_input": "2025-04-11T15:36:57.232674Z",
     "iopub.status.busy": "2025-04-11T15:36:57.232326Z",
     "iopub.status.idle": "2025-04-11T15:36:57.312490Z",
     "shell.execute_reply": "2025-04-11T15:36:57.311347Z"
    },
    "papermill": {
     "duration": 0.089466,
     "end_time": "2025-04-11T15:36:57.314245",
     "exception": false,
     "start_time": "2025-04-11T15:36:57.224779",
     "status": "completed"
    },
    "tags": []
   },
   "outputs": [
    {
     "name": "stderr",
     "output_type": "stream",
     "text": [
      "/usr/local/lib/python3.10/dist-packages/keras/src/layers/core/embedding.py:90: UserWarning: Argument `input_length` is deprecated. Just remove it.\n",
      "  warnings.warn(\n"
     ]
    },
    {
     "data": {
      "text/html": [
       "<pre style=\"white-space:pre;overflow-x:auto;line-height:normal;font-family:Menlo,'DejaVu Sans Mono',consolas,'Courier New',monospace\"><span style=\"font-weight: bold\">Model: \"sequential\"</span>\n",
       "</pre>\n"
      ],
      "text/plain": [
       "\u001b[1mModel: \"sequential\"\u001b[0m\n"
      ]
     },
     "metadata": {},
     "output_type": "display_data"
    },
    {
     "data": {
      "text/html": [
       "<pre style=\"white-space:pre;overflow-x:auto;line-height:normal;font-family:Menlo,'DejaVu Sans Mono',consolas,'Courier New',monospace\">┏━━━━━━━━━━━━━━━━━━━━━━━━━━━━━━━━━━━━━━┳━━━━━━━━━━━━━━━━━━━━━━━━━━━━━┳━━━━━━━━━━━━━━━━━┓\n",
       "┃<span style=\"font-weight: bold\"> Layer (type)                         </span>┃<span style=\"font-weight: bold\"> Output Shape                </span>┃<span style=\"font-weight: bold\">         Param # </span>┃\n",
       "┡━━━━━━━━━━━━━━━━━━━━━━━━━━━━━━━━━━━━━━╇━━━━━━━━━━━━━━━━━━━━━━━━━━━━━╇━━━━━━━━━━━━━━━━━┩\n",
       "│ embedding (<span style=\"color: #0087ff; text-decoration-color: #0087ff\">Embedding</span>)                │ ?                           │     <span style=\"color: #00af00; text-decoration-color: #00af00\">0</span> (unbuilt) │\n",
       "├──────────────────────────────────────┼─────────────────────────────┼─────────────────┤\n",
       "│ bidirectional (<span style=\"color: #0087ff; text-decoration-color: #0087ff\">Bidirectional</span>)        │ ?                           │     <span style=\"color: #00af00; text-decoration-color: #00af00\">0</span> (unbuilt) │\n",
       "├──────────────────────────────────────┼─────────────────────────────┼─────────────────┤\n",
       "│ lstm_1 (<span style=\"color: #0087ff; text-decoration-color: #0087ff\">LSTM</span>)                        │ ?                           │     <span style=\"color: #00af00; text-decoration-color: #00af00\">0</span> (unbuilt) │\n",
       "├──────────────────────────────────────┼─────────────────────────────┼─────────────────┤\n",
       "│ dense (<span style=\"color: #0087ff; text-decoration-color: #0087ff\">Dense</span>)                        │ ?                           │     <span style=\"color: #00af00; text-decoration-color: #00af00\">0</span> (unbuilt) │\n",
       "└──────────────────────────────────────┴─────────────────────────────┴─────────────────┘\n",
       "</pre>\n"
      ],
      "text/plain": [
       "┏━━━━━━━━━━━━━━━━━━━━━━━━━━━━━━━━━━━━━━┳━━━━━━━━━━━━━━━━━━━━━━━━━━━━━┳━━━━━━━━━━━━━━━━━┓\n",
       "┃\u001b[1m \u001b[0m\u001b[1mLayer (type)                        \u001b[0m\u001b[1m \u001b[0m┃\u001b[1m \u001b[0m\u001b[1mOutput Shape               \u001b[0m\u001b[1m \u001b[0m┃\u001b[1m \u001b[0m\u001b[1m        Param #\u001b[0m\u001b[1m \u001b[0m┃\n",
       "┡━━━━━━━━━━━━━━━━━━━━━━━━━━━━━━━━━━━━━━╇━━━━━━━━━━━━━━━━━━━━━━━━━━━━━╇━━━━━━━━━━━━━━━━━┩\n",
       "│ embedding (\u001b[38;5;33mEmbedding\u001b[0m)                │ ?                           │     \u001b[38;5;34m0\u001b[0m (unbuilt) │\n",
       "├──────────────────────────────────────┼─────────────────────────────┼─────────────────┤\n",
       "│ bidirectional (\u001b[38;5;33mBidirectional\u001b[0m)        │ ?                           │     \u001b[38;5;34m0\u001b[0m (unbuilt) │\n",
       "├──────────────────────────────────────┼─────────────────────────────┼─────────────────┤\n",
       "│ lstm_1 (\u001b[38;5;33mLSTM\u001b[0m)                        │ ?                           │     \u001b[38;5;34m0\u001b[0m (unbuilt) │\n",
       "├──────────────────────────────────────┼─────────────────────────────┼─────────────────┤\n",
       "│ dense (\u001b[38;5;33mDense\u001b[0m)                        │ ?                           │     \u001b[38;5;34m0\u001b[0m (unbuilt) │\n",
       "└──────────────────────────────────────┴─────────────────────────────┴─────────────────┘\n"
      ]
     },
     "metadata": {},
     "output_type": "display_data"
    },
    {
     "data": {
      "text/html": [
       "<pre style=\"white-space:pre;overflow-x:auto;line-height:normal;font-family:Menlo,'DejaVu Sans Mono',consolas,'Courier New',monospace\"><span style=\"font-weight: bold\"> Total params: </span><span style=\"color: #00af00; text-decoration-color: #00af00\">0</span> (0.00 B)\n",
       "</pre>\n"
      ],
      "text/plain": [
       "\u001b[1m Total params: \u001b[0m\u001b[38;5;34m0\u001b[0m (0.00 B)\n"
      ]
     },
     "metadata": {},
     "output_type": "display_data"
    },
    {
     "data": {
      "text/html": [
       "<pre style=\"white-space:pre;overflow-x:auto;line-height:normal;font-family:Menlo,'DejaVu Sans Mono',consolas,'Courier New',monospace\"><span style=\"font-weight: bold\"> Trainable params: </span><span style=\"color: #00af00; text-decoration-color: #00af00\">0</span> (0.00 B)\n",
       "</pre>\n"
      ],
      "text/plain": [
       "\u001b[1m Trainable params: \u001b[0m\u001b[38;5;34m0\u001b[0m (0.00 B)\n"
      ]
     },
     "metadata": {},
     "output_type": "display_data"
    },
    {
     "data": {
      "text/html": [
       "<pre style=\"white-space:pre;overflow-x:auto;line-height:normal;font-family:Menlo,'DejaVu Sans Mono',consolas,'Courier New',monospace\"><span style=\"font-weight: bold\"> Non-trainable params: </span><span style=\"color: #00af00; text-decoration-color: #00af00\">0</span> (0.00 B)\n",
       "</pre>\n"
      ],
      "text/plain": [
       "\u001b[1m Non-trainable params: \u001b[0m\u001b[38;5;34m0\u001b[0m (0.00 B)\n"
      ]
     },
     "metadata": {},
     "output_type": "display_data"
    }
   ],
   "source": [
    "from tensorflow.keras.layers import Embedding, LSTM, Dense, Bidirectional\n",
    "\n",
    "model = Sequential([\n",
    "    Embedding(8932, 128, input_length=104),\n",
    "    Bidirectional(LSTM(128, return_sequences=True)),  # BiLSTM layer\n",
    "    LSTM(64),                                          # Additional LSTM layer\n",
    "    Dense(8932, activation='softmax')\n",
    "])\n",
    "model.summary()"
   ]
  },
  {
   "cell_type": "code",
   "execution_count": 17,
   "id": "c10b7845",
   "metadata": {
    "execution": {
     "iopub.execute_input": "2025-04-11T15:36:57.330030Z",
     "iopub.status.busy": "2025-04-11T15:36:57.329638Z",
     "iopub.status.idle": "2025-04-11T15:36:57.351598Z",
     "shell.execute_reply": "2025-04-11T15:36:57.350471Z"
    },
    "papermill": {
     "duration": 0.03182,
     "end_time": "2025-04-11T15:36:57.353550",
     "exception": false,
     "start_time": "2025-04-11T15:36:57.321730",
     "status": "completed"
    },
    "tags": []
   },
   "outputs": [],
   "source": [
    "model.compile(loss='categorical_crossentropy',optimizer='adam',metrics=['accuracy'])"
   ]
  },
  {
   "cell_type": "code",
   "execution_count": 18,
   "id": "edc27b63",
   "metadata": {
    "execution": {
     "iopub.execute_input": "2025-04-11T15:36:57.368603Z",
     "iopub.status.busy": "2025-04-11T15:36:57.368244Z",
     "iopub.status.idle": "2025-04-11T15:52:44.944143Z",
     "shell.execute_reply": "2025-04-11T15:52:44.943055Z"
    },
    "papermill": {
     "duration": 947.585669,
     "end_time": "2025-04-11T15:52:44.946090",
     "exception": false,
     "start_time": "2025-04-11T15:36:57.360421",
     "status": "completed"
    },
    "tags": []
   },
   "outputs": [
    {
     "name": "stdout",
     "output_type": "stream",
     "text": [
      "Epoch 1/2\n",
      "\u001b[1m1587/1587\u001b[0m \u001b[32m━━━━━━━━━━━━━━━━━━━━\u001b[0m\u001b[37m\u001b[0m \u001b[1m472s\u001b[0m 294ms/step - accuracy: 0.0556 - loss: 6.7977\n",
      "Epoch 2/2\n",
      "\u001b[1m1587/1587\u001b[0m \u001b[32m━━━━━━━━━━━━━━━━━━━━\u001b[0m\u001b[37m\u001b[0m \u001b[1m466s\u001b[0m 293ms/step - accuracy: 0.0821 - loss: 6.0181\n"
     ]
    },
    {
     "data": {
      "text/plain": [
       "<keras.src.callbacks.history.History at 0x7efc740dea70>"
      ]
     },
     "execution_count": 18,
     "metadata": {},
     "output_type": "execute_result"
    }
   ],
   "source": [
    "model.fit(X,y,epochs=2,batch_size=64)"
   ]
  },
  {
   "cell_type": "code",
   "execution_count": 19,
   "id": "57bb7656",
   "metadata": {
    "execution": {
     "iopub.execute_input": "2025-04-11T15:52:45.312799Z",
     "iopub.status.busy": "2025-04-11T15:52:45.312442Z",
     "iopub.status.idle": "2025-04-11T15:52:45.318073Z",
     "shell.execute_reply": "2025-04-11T15:52:45.317194Z"
    },
    "papermill": {
     "duration": 0.190302,
     "end_time": "2025-04-11T15:52:45.319604",
     "exception": false,
     "start_time": "2025-04-11T15:52:45.129302",
     "status": "completed"
    },
    "tags": []
   },
   "outputs": [],
   "source": [
    "import time\n",
    "\n",
    "def predict_word(text):\n",
    "    for i in range(10):\n",
    "      # tokenize\n",
    "      token_text = tokenizer.texts_to_sequences([text])[0]\n",
    "      # padding\n",
    "      padded_token_text = pad_sequences([token_text], maxlen=56, padding='pre')\n",
    "      # predict\n",
    "      pos = np.argmax(model.predict(padded_token_text))\n",
    "\n",
    "      for word,index in tokenizer.word_index.items():\n",
    "        if index == pos:\n",
    "          text = text + \" \" + word\n",
    "          print(text)\n",
    "          time.sleep(2)\n"
   ]
  },
  {
   "cell_type": "code",
   "execution_count": 20,
   "id": "f4d7f9a4",
   "metadata": {
    "execution": {
     "iopub.execute_input": "2025-04-11T15:52:45.682185Z",
     "iopub.status.busy": "2025-04-11T15:52:45.681804Z",
     "iopub.status.idle": "2025-04-11T15:53:06.920278Z",
     "shell.execute_reply": "2025-04-11T15:53:06.919065Z"
    },
    "papermill": {
     "duration": 21.42202,
     "end_time": "2025-04-11T15:53:06.922277",
     "exception": false,
     "start_time": "2025-04-11T15:52:45.500257",
     "status": "completed"
    },
    "tags": []
   },
   "outputs": [
    {
     "name": "stdout",
     "output_type": "stream",
     "text": [
      "\u001b[1m1/1\u001b[0m \u001b[32m━━━━━━━━━━━━━━━━━━━━\u001b[0m\u001b[37m\u001b[0m \u001b[1m0s\u001b[0m 426ms/step\n",
      "The Adventures is the\n",
      "\u001b[1m1/1\u001b[0m \u001b[32m━━━━━━━━━━━━━━━━━━━━\u001b[0m\u001b[37m\u001b[0m \u001b[1m0s\u001b[0m 32ms/step\n",
      "The Adventures is the man\n",
      "\u001b[1m1/1\u001b[0m \u001b[32m━━━━━━━━━━━━━━━━━━━━\u001b[0m\u001b[37m\u001b[0m \u001b[1m0s\u001b[0m 30ms/step\n",
      "The Adventures is the man and\n",
      "\u001b[1m1/1\u001b[0m \u001b[32m━━━━━━━━━━━━━━━━━━━━\u001b[0m\u001b[37m\u001b[0m \u001b[1m0s\u001b[0m 31ms/step\n",
      "The Adventures is the man and the\n",
      "\u001b[1m1/1\u001b[0m \u001b[32m━━━━━━━━━━━━━━━━━━━━\u001b[0m\u001b[37m\u001b[0m \u001b[1m0s\u001b[0m 30ms/step\n",
      "The Adventures is the man and the man\n",
      "\u001b[1m1/1\u001b[0m \u001b[32m━━━━━━━━━━━━━━━━━━━━\u001b[0m\u001b[37m\u001b[0m \u001b[1m0s\u001b[0m 32ms/step\n",
      "The Adventures is the man and the man and\n",
      "\u001b[1m1/1\u001b[0m \u001b[32m━━━━━━━━━━━━━━━━━━━━\u001b[0m\u001b[37m\u001b[0m \u001b[1m0s\u001b[0m 29ms/step\n",
      "The Adventures is the man and the man and the\n",
      "\u001b[1m1/1\u001b[0m \u001b[32m━━━━━━━━━━━━━━━━━━━━\u001b[0m\u001b[37m\u001b[0m \u001b[1m0s\u001b[0m 31ms/step\n",
      "The Adventures is the man and the man and the man\n",
      "\u001b[1m1/1\u001b[0m \u001b[32m━━━━━━━━━━━━━━━━━━━━\u001b[0m\u001b[37m\u001b[0m \u001b[1m0s\u001b[0m 30ms/step\n",
      "The Adventures is the man and the man and the man and\n",
      "\u001b[1m1/1\u001b[0m \u001b[32m━━━━━━━━━━━━━━━━━━━━\u001b[0m\u001b[37m\u001b[0m \u001b[1m0s\u001b[0m 30ms/step\n",
      "The Adventures is the man and the man and the man and the\n"
     ]
    }
   ],
   "source": [
    "seed_text = \"The Adventures is\"\n",
    "next_word = predict_word(seed_text)"
   ]
  },
  {
   "cell_type": "code",
   "execution_count": null,
   "id": "934cc8cb",
   "metadata": {
    "execution": {
     "iopub.execute_input": "2025-04-10T12:13:39.279435Z",
     "iopub.status.busy": "2025-04-10T12:13:39.279029Z",
     "iopub.status.idle": "2025-04-10T12:13:39.366980Z",
     "shell.execute_reply": "2025-04-10T12:13:39.365803Z",
     "shell.execute_reply.started": "2025-04-10T12:13:39.279403Z"
    },
    "papermill": {
     "duration": 0.184045,
     "end_time": "2025-04-11T15:53:07.351314",
     "exception": false,
     "start_time": "2025-04-11T15:53:07.167269",
     "status": "completed"
    },
    "tags": []
   },
   "outputs": [],
   "source": []
  },
  {
   "cell_type": "code",
   "execution_count": 21,
   "id": "7d6bb072",
   "metadata": {
    "execution": {
     "iopub.execute_input": "2025-04-11T15:53:07.723829Z",
     "iopub.status.busy": "2025-04-11T15:53:07.723473Z",
     "iopub.status.idle": "2025-04-11T15:53:07.805471Z",
     "shell.execute_reply": "2025-04-11T15:53:07.804474Z"
    },
    "papermill": {
     "duration": 0.269708,
     "end_time": "2025-04-11T15:53:07.807379",
     "exception": false,
     "start_time": "2025-04-11T15:53:07.537671",
     "status": "completed"
    },
    "tags": []
   },
   "outputs": [],
   "source": [
    "model.save('next_word_prediction.h5')"
   ]
  },
  {
   "cell_type": "code",
   "execution_count": 22,
   "id": "83c71e53",
   "metadata": {
    "execution": {
     "iopub.execute_input": "2025-04-11T15:53:08.181583Z",
     "iopub.status.busy": "2025-04-11T15:53:08.181244Z",
     "iopub.status.idle": "2025-04-11T15:53:08.248204Z",
     "shell.execute_reply": "2025-04-11T15:53:08.247259Z"
    },
    "papermill": {
     "duration": 0.25684,
     "end_time": "2025-04-11T15:53:08.250195",
     "exception": false,
     "start_time": "2025-04-11T15:53:07.993355",
     "status": "completed"
    },
    "tags": []
   },
   "outputs": [],
   "source": [
    "model.save_weights('next_word.weights.h5')"
   ]
  },
  {
   "cell_type": "code",
   "execution_count": null,
   "id": "95cecee4",
   "metadata": {
    "papermill": {
     "duration": 0.185603,
     "end_time": "2025-04-11T15:53:08.621268",
     "exception": false,
     "start_time": "2025-04-11T15:53:08.435665",
     "status": "completed"
    },
    "tags": []
   },
   "outputs": [],
   "source": []
  }
 ],
 "metadata": {
  "kaggle": {
   "accelerator": "none",
   "dataSources": [
    {
     "datasetId": 2389252,
     "sourceId": 4032467,
     "sourceType": "datasetVersion"
    }
   ],
   "dockerImageVersionId": 30886,
   "isGpuEnabled": false,
   "isInternetEnabled": true,
   "language": "python",
   "sourceType": "notebook"
  },
  "kernelspec": {
   "display_name": "Python 3",
   "language": "python",
   "name": "python3"
  },
  "language_info": {
   "codemirror_mode": {
    "name": "ipython",
    "version": 3
   },
   "file_extension": ".py",
   "mimetype": "text/x-python",
   "name": "python",
   "nbconvert_exporter": "python",
   "pygments_lexer": "ipython3",
   "version": "3.10.12"
  },
  "papermill": {
   "default_parameters": {},
   "duration": 996.982551,
   "end_time": "2025-04-11T15:53:10.733380",
   "environment_variables": {},
   "exception": null,
   "input_path": "__notebook__.ipynb",
   "output_path": "__notebook__.ipynb",
   "parameters": {},
   "start_time": "2025-04-11T15:36:33.750829",
   "version": "2.6.0"
  }
 },
 "nbformat": 4,
 "nbformat_minor": 5
}

{
 "cells": [
  {
   "cell_type": "code",
   "execution_count": 1,
   "id": "f0813b6e",
   "metadata": {
    "_cell_guid": "b1076dfc-b9ad-4769-8c92-a6c4dae69d19",
    "_uuid": "8f2839f25d086af736a60e9eeb907d3b93b6e0e5",
    "execution": {
     "iopub.execute_input": "2025-04-11T14:12:45.976111Z",
     "iopub.status.busy": "2025-04-11T14:12:45.975631Z",
     "iopub.status.idle": "2025-04-11T14:12:47.047487Z",
     "shell.execute_reply": "2025-04-11T14:12:47.046244Z"
    },
    "papermill": {
     "duration": 1.080714,
     "end_time": "2025-04-11T14:12:47.049201",
     "exception": false,
     "start_time": "2025-04-11T14:12:45.968487",
     "status": "completed"
    },
    "tags": []
   },
   "outputs": [
    {
     "name": "stdout",
     "output_type": "stream",
     "text": [
      "/kaggle/input/next-word-prediction/1661-0.txt\n"
     ]
    }
   ],
   "source": [
    
    "\n",
    "import numpy as np # linear algebra\n",
    "import pandas as pd # data processing, CSV file I/O (e.g. pd.read_csv)\n",
    "\n",
    
    "\n",
    "import os\n",
    "for dirname, _, filenames in os.walk('/kaggle/input'):\n",
    "    for filename in filenames:\n",
    "        print(os.path.join(dirname, filename))\n",
    "\n",
 
   ]
  },
  {
   "cell_type": "code",
   "execution_count": 2,
   "id": "b33854f5",
   "metadata": {
    "execution": {
     "iopub.execute_input": "2025-04-11T14:12:47.061743Z",
     "iopub.status.busy": "2025-04-11T14:12:47.061244Z",
     "iopub.status.idle": "2025-04-11T14:13:05.326002Z",
     "shell.execute_reply": "2025-04-11T14:13:05.324745Z"
    },
    "papermill": {
     "duration": 18.273451,
     "end_time": "2025-04-11T14:13:05.328261",
     "exception": false,
     "start_time": "2025-04-11T14:12:47.054810",
     "status": "completed"
    },
    "tags": []
   },
   "outputs": [],
   "source": [
    "import tensorflow as tf\n",
    "from tensorflow.keras.layers import LSTM,Embedding,Dense,Dropout,BatchNormalization\n",
    "from tensorflow.keras.preprocessing.sequence import pad_sequences\n",
    "import re\n",
    "from tensorflow.keras.preprocessing.text import Tokenizer\n",
    "from tensorflow.keras.models import Sequential\n",
    "import nltk\n",
    "from nltk.tokenize import word_tokenize,sent_tokenize\n",
    "from tensorflow.keras.utils import to_categorical"
   ]
  },
  {
   "cell_type": "code",
   "execution_count": 3,
   "id": "32cff9d2",
   "metadata": {
    "execution": {
     "iopub.execute_input": "2025-04-11T14:13:05.340905Z",
     "iopub.status.busy": "2025-04-11T14:13:05.340124Z",
     "iopub.status.idle": "2025-04-11T14:13:05.395618Z",
     "shell.execute_reply": "2025-04-11T14:13:05.394437Z"
    },
    "papermill": {
     "duration": 0.064151,
     "end_time": "2025-04-11T14:13:05.397937",
     "exception": false,
     "start_time": "2025-04-11T14:13:05.333786",
     "status": "completed"
    },
    "tags": []
   },
   "outputs": [],
   "source": [
    "sent = pd.read_csv('/kaggle/input/next-word-prediction/1661-0.txt',delimiter=',', on_bad_lines='skip')"
   ]
  },
  {
   "cell_type": "code",
   "execution_count": 4,
   "id": "8c5ce42d",
   "metadata": {
    "execution": {
     "iopub.execute_input": "2025-04-11T14:13:05.410334Z",
     "iopub.status.busy": "2025-04-11T14:13:05.409934Z",
     "iopub.status.idle": "2025-04-11T14:13:05.438840Z",
     "shell.execute_reply": "2025-04-11T14:13:05.437555Z"
    },
    "papermill": {
     "duration": 0.037425,
     "end_time": "2025-04-11T14:13:05.440913",
     "exception": false,
     "start_time": "2025-04-11T14:13:05.403488",
     "status": "completed"
    },
    "tags": []
   },
   "outputs": [
    {
     "data": {
      "text/html": [
       "<div>\n",
       "<style scoped>\n",
       "    .dataframe tbody tr th:only-of-type {\n",
       "        vertical-align: middle;\n",
       "    }\n",
       "\n",
       "    .dataframe tbody tr th {\n",
       "        vertical-align: top;\n",
       "    }\n",
       "\n",
       "    .dataframe thead th {\n",
       "        text-align: right;\n",
       "    }\n",
       "</style>\n",
       "<table border=\"1\" class=\"dataframe\">\n",
       "  <thead>\n",
       "    <tr style=\"text-align: right;\">\n",
       "      <th></th>\n",
       "      <th>Project Gutenberg's The Adventures of Sherlock Holmes</th>\n",
       "      <th>by Arthur Conan Doyle</th>\n",
       "    </tr>\n",
       "  </thead>\n",
       "  <tbody>\n",
       "    <tr>\n",
       "      <th>0</th>\n",
       "      <td>This eBook is for the use of anyone anywhere a...</td>\n",
       "      <td>NaN</td>\n",
       "    </tr>\n",
       "    <tr>\n",
       "      <th>1</th>\n",
       "      <td>almost no restrictions whatsoever.  You may co...</td>\n",
       "      <td>give it away or</td>\n",
       "    </tr>\n",
       "    <tr>\n",
       "      <th>2</th>\n",
       "      <td>re-use it under the terms of the Project Guten...</td>\n",
       "      <td>NaN</td>\n",
       "    </tr>\n",
       "    <tr>\n",
       "      <th>3</th>\n",
       "      <td>with this eBook or online at www.gutenberg.net</td>\n",
       "      <td>NaN</td>\n",
       "    </tr>\n",
       "    <tr>\n",
       "      <th>4</th>\n",
       "      <td>Title: The Adventures of Sherlock Holmes</td>\n",
       "      <td>NaN</td>\n",
       "    </tr>\n",
       "    <tr>\n",
       "      <th>...</th>\n",
       "      <td>...</td>\n",
       "      <td>...</td>\n",
       "    </tr>\n",
       "    <tr>\n",
       "      <th>7655</th>\n",
       "      <td>Most people start at our Web site which has th...</td>\n",
       "      <td>NaN</td>\n",
       "    </tr>\n",
       "    <tr>\n",
       "      <th>7656</th>\n",
       "      <td>facility: www.gutenberg.org</td>\n",
       "      <td>NaN</td>\n",
       "    </tr>\n",
       "    <tr>\n",
       "      <th>7657</th>\n",
       "      <td>This Web site includes information about Proje...</td>\n",
       "      <td>NaN</td>\n",
       "    </tr>\n",
       "    <tr>\n",
       "      <th>7658</th>\n",
       "      <td>including how to make donations to the Project...</td>\n",
       "      <td>NaN</td>\n",
       "    </tr>\n",
       "    <tr>\n",
       "      <th>7659</th>\n",
       "      <td>subscribe to our email newsletter to hear abou...</td>\n",
       "      <td>NaN</td>\n",
       "    </tr>\n",
       "  </tbody>\n",
       "</table>\n",
       "<p>7660 rows × 2 columns</p>\n",
       "</div>"
      ],
      "text/plain": [
       "     Project Gutenberg's The Adventures of Sherlock Holmes  \\\n",
       "0     This eBook is for the use of anyone anywhere a...      \n",
       "1     almost no restrictions whatsoever.  You may co...      \n",
       "2     re-use it under the terms of the Project Guten...      \n",
       "3        with this eBook or online at www.gutenberg.net      \n",
       "4              Title: The Adventures of Sherlock Holmes      \n",
       "...                                                 ...      \n",
       "7655  Most people start at our Web site which has th...      \n",
       "7656                        facility: www.gutenberg.org      \n",
       "7657  This Web site includes information about Proje...      \n",
       "7658  including how to make donations to the Project...      \n",
       "7659  subscribe to our email newsletter to hear abou...      \n",
       "\n",
       "      by Arthur Conan Doyle  \n",
       "0                       NaN  \n",
       "1           give it away or  \n",
       "2                       NaN  \n",
       "3                       NaN  \n",
       "4                       NaN  \n",
       "...                     ...  \n",
       "7655                    NaN  \n",
       "7656                    NaN  \n",
       "7657                    NaN  \n",
       "7658                    NaN  \n",
       "7659                    NaN  \n",
       "\n",
       "[7660 rows x 2 columns]"
      ]
     },
     "execution_count": 4,
     "metadata": {},
     "output_type": "execute_result"
    }
   ],
   "source": [
    "sent"
   ]
  },
  {
   "cell_type": "code",
   "execution_count": 5,
   "id": "46332a29",
   "metadata": {
    "execution": {
     "iopub.execute_input": "2025-04-11T14:13:05.453658Z",
     "iopub.status.busy": "2025-04-11T14:13:05.453259Z",
     "iopub.status.idle": "2025-04-11T14:13:05.484818Z",
     "shell.execute_reply": "2025-04-11T14:13:05.483630Z"
    },
    "papermill": {
     "duration": 0.039834,
     "end_time": "2025-04-11T14:13:05.486553",
     "exception": false,
     "start_time": "2025-04-11T14:13:05.446719",
     "status": "completed"
    },
    "tags": []
   },
   "outputs": [
    {
     "name": "stdout",
     "output_type": "stream",
     "text": [
      "<class 'pandas.core.frame.DataFrame'>\n",
      "RangeIndex: 7660 entries, 0 to 7659\n",
      "Data columns (total 2 columns):\n",
      " #   Column                                                 Non-Null Count  Dtype \n",
      "---  ------                                                 --------------  ----- \n",
      " 0   Project Gutenberg's The Adventures of Sherlock Holmes  7660 non-null   object\n",
      " 1    by Arthur Conan Doyle                                 3039 non-null   object\n",
      "dtypes: object(2)\n",
      "memory usage: 119.8+ KB\n"
     ]
    }
   ],
   "source": [
    "sent.info()"
   ]
  },
  {
   "cell_type": "code",
   "execution_count": 6,
   "id": "13bc84e5",
   "metadata": {
    "execution": {
     "iopub.execute_input": "2025-04-11T14:13:05.500251Z",
     "iopub.status.busy": "2025-04-11T14:13:05.499822Z",
     "iopub.status.idle": "2025-04-11T14:13:05.512044Z",
     "shell.execute_reply": "2025-04-11T14:13:05.511004Z"
    },
    "papermill": {
     "duration": 0.02152,
     "end_time": "2025-04-11T14:13:05.514174",
     "exception": false,
     "start_time": "2025-04-11T14:13:05.492654",
     "status": "completed"
    },
    "tags": []
   },
   "outputs": [],
   "source": [
    "file_path = '/kaggle/input/next-word-prediction/1661-0.txt'\n",
    "with open(file_path, 'r', encoding='utf-8') as file:\n",
    "    lines = file.readlines()\n",
    "    sentence = \"\".join(lines)"
   ]
  },
  {
   "cell_type": "code",
   "execution_count": 7,
   "id": "387acf78",
   "metadata": {
    "execution": {
     "iopub.execute_input": "2025-04-11T14:13:05.527326Z",
     "iopub.status.busy": "2025-04-11T14:13:05.526817Z",
     "iopub.status.idle": "2025-04-11T14:13:05.533242Z",
     "shell.execute_reply": "2025-04-11T14:13:05.532107Z"
    },
    "papermill": {
     "duration": 0.014709,
     "end_time": "2025-04-11T14:13:05.534941",
     "exception": false,
     "start_time": "2025-04-11T14:13:05.520232",
     "status": "completed"
    },
    "tags": []
   },
   "outputs": [
    {
     "data": {
      "text/plain": [
       "str"
      ]
     },
     "execution_count": 7,
     "metadata": {},
     "output_type": "execute_result"
    }
   ],
   "source": [
    "type(sentence)"
   ]
  },
  {
   "cell_type": "code",
   "execution_count": 8,
   "id": "ad543890",
   "metadata": {
    "execution": {
     "iopub.execute_input": "2025-04-11T14:13:05.547870Z",
     "iopub.status.busy": "2025-04-11T14:13:05.547478Z",
     "iopub.status.idle": "2025-04-11T14:13:05.617728Z",
     "shell.execute_reply": "2025-04-11T14:13:05.616598Z"
    },
    "papermill": {
     "duration": 0.07867,
     "end_time": "2025-04-11T14:13:05.619604",
     "exception": false,
     "start_time": "2025-04-11T14:13:05.540934",
     "status": "completed"
    },
    "tags": []
   },
   "outputs": [
    {
     "data": {
      "text/plain": [
       "\"Project Gutenberg's The Adventures of Sherlock Holmes, by Arthur Conan Doyle This eBook is for the u\""
      ]
     },
     "execution_count": 8,
     "metadata": {},
     "output_type": "execute_result"
    }
   ],
   "source": [
    "#removing special characters and adjusting spacing\n",
    "cleaned_text = re.sub(r'[^\\x00-\\x7F]+', '', sentence)\n",
    "cleaned_text = cleaned_text.replace('\\n',' ').replace('\\r','')\n",
    "cleaned_text = re.sub('\\s+',' ',cleaned_text).strip()\n",
    "cleaned_text[:100]"
   ]
  },
  {
   "cell_type": "code",
   "execution_count": 9,
   "id": "2b6cfb6e",
   "metadata": {
    "execution": {
     "iopub.execute_input": "2025-04-11T14:13:05.632685Z",
     "iopub.status.busy": "2025-04-11T14:13:05.632333Z",
     "iopub.status.idle": "2025-04-11T14:13:05.844481Z",
     "shell.execute_reply": "2025-04-11T14:13:05.843229Z"
    },
    "papermill": {
     "duration": 0.220672,
     "end_time": "2025-04-11T14:13:05.846272",
     "exception": false,
     "start_time": "2025-04-11T14:13:05.625600",
     "status": "completed"
    },
    "tags": []
   },
   "outputs": [
    {
     "name": "stdout",
     "output_type": "stream",
     "text": [
      "[nltk_data] Downloading package punkt to /usr/share/nltk_data...\n",
      "[nltk_data]   Package punkt is already up-to-date!\n"
     ]
    },
    {
     "data": {
      "text/plain": [
       "True"
      ]
     },
     "execution_count": 9,
     "metadata": {},
     "output_type": "execute_result"
    }
   ],
   "source": [
    "#performing tokenization\n",
    "nltk.download('punkt')"
   ]
  },
  {
   "cell_type": "code",
   "execution_count": 10,
   "id": "9c8afe9a",
   "metadata": {
    "execution": {
     "iopub.execute_input": "2025-04-11T14:13:05.859574Z",
     "iopub.status.busy": "2025-04-11T14:13:05.859165Z",
     "iopub.status.idle": "2025-04-11T14:13:06.063668Z",
     "shell.execute_reply": "2025-04-11T14:13:06.062223Z"
    },
    "papermill": {
     "duration": 0.213387,
     "end_time": "2025-04-11T14:13:06.065766",
     "exception": false,
     "start_time": "2025-04-11T14:13:05.852379",
     "status": "completed"
    },
    "tags": []
   },
   "outputs": [
    {
     "name": "stdout",
     "output_type": "stream",
     "text": [
      "[\"Project Gutenberg's The Adventures of Sherlock Holmes, by Arthur Conan Doyle This eBook is for the use of anyone anywhere at no cost and with almost no restrictions whatsoever.\", 'You may copy it, give it away or re-use it under the terms of the Project Gutenberg License included with this eBook or online at www.gutenberg.net Title: The Adventures of Sherlock Holmes Author: Arthur Conan Doyle Release Date: November 29, 2002 [EBook #1661] Last Updated: May 20, 2019 Language: English Character set encoding: UTF-8 *** START OF THIS PROJECT GUTENBERG EBOOK THE ADVENTURES OF SHERLOCK HOLMES *** Produced by an anonymous Project Gutenberg volunteer and Jose Menendez cover The Adventures of Sherlock Holmes by Arthur Conan Doyle Contents I.', 'A Scandal in Bohemia II.', 'The Red-Headed League III.', 'A Case of Identity IV.', 'The Boscombe Valley Mystery V. The Five Orange Pips VI.', 'The Man with the Twisted Lip VII.', 'The Adventure of the Blue Carbuncle VIII.', 'The Adventure of the Speckled Band IX.', 'The Adventure of the Engineers Thumb X.']\n"
     ]
    }
   ],
   "source": [
    "sent = sent_tokenize(cleaned_text)\n",
    "print(sent[:10])"
   ]
  },
  {
   "cell_type": "code",
   "execution_count": 11,
   "id": "fdea6adb",
   "metadata": {
    "execution": {
     "iopub.execute_input": "2025-04-11T14:13:06.079734Z",
     "iopub.status.busy": "2025-04-11T14:13:06.079320Z",
     "iopub.status.idle": "2025-04-11T14:13:07.045712Z",
     "shell.execute_reply": "2025-04-11T14:13:07.044453Z"
    },
    "papermill": {
     "duration": 0.97596,
     "end_time": "2025-04-11T14:13:07.047778",
     "exception": false,
     "start_time": "2025-04-11T14:13:06.071818",
     "status": "completed"
    },
    "tags": []
   },
   "outputs": [],
   "source": [
    "sequence_length = 5\n",
    "sequences = []\n",
    "targets = []\n",
    "vocabulary = set()\n",
    "\n",
    "for sentence in sent:\n",
    "    tokens = word_tokenize(sentence)\n",
    "    vocabulary.update(tokens)"
   ]
  },
  {
   "cell_type": "code",
   "execution_count": 12,
   "id": "97adacfd",
   "metadata": {
    "execution": {
     "iopub.execute_input": "2025-04-11T14:13:07.061542Z",
     "iopub.status.busy": "2025-04-11T14:13:07.061164Z",
     "iopub.status.idle": "2025-04-11T14:13:07.072591Z",
     "shell.execute_reply": "2025-04-11T14:13:07.071448Z"
    },
    "papermill": {
     "duration": 0.020497,
     "end_time": "2025-04-11T14:13:07.074511",
     "exception": false,
     "start_time": "2025-04-11T14:13:07.054014",
     "status": "completed"
    },
    "tags": []
   },
   "outputs": [],
   "source": [
    "vocabulary = sorted(list(vocabulary))\n",
    "word_index = {word: index for index,word in enumerate(vocabulary)}\n",
    "index_word = {index: word for word,index in word_index.items()}\n",
    "vocab_size = len(vocabulary)"
   ]
  },
  {
   "cell_type": "code",
   "execution_count": 13,
   "id": "49fd3535",
   "metadata": {
    "execution": {
     "iopub.execute_input": "2025-04-11T14:13:07.087971Z",
     "iopub.status.busy": "2025-04-11T14:13:07.087600Z",
     "iopub.status.idle": "2025-04-11T14:13:08.438639Z",
     "shell.execute_reply": "2025-04-11T14:13:08.437504Z"
    },
    "papermill": {
     "duration": 1.360057,
     "end_time": "2025-04-11T14:13:08.440717",
     "exception": false,
     "start_time": "2025-04-11T14:13:07.080660",
     "status": "completed"
    },
    "tags": []
   },
   "outputs": [],
   "source": [
    "for sentence in sent:\n",
    "    tokens = word_tokenize(sentence)\n",
    "    for i in range(len(tokens)-sequence_length):\n",
    "        sequence = tokens[i:i+sequence_length]\n",
    "        target = tokens[i+sequence_length]\n",
    "        sequences.append([word_index[word] for word in sequence])\n",
    "        targets.append(word_index[target])"
   ]
  },
  {
   "cell_type": "code",
   "execution_count": 14,
   "id": "54669e10",
   "metadata": {
    "execution": {
     "iopub.execute_input": "2025-04-11T14:13:08.455207Z",
     "iopub.status.busy": "2025-04-11T14:13:08.454780Z",
     "iopub.status.idle": "2025-04-11T14:13:08.970604Z",
     "shell.execute_reply": "2025-04-11T14:13:08.969531Z"
    },
    "papermill": {
     "duration": 0.525331,
     "end_time": "2025-04-11T14:13:08.972754",
     "exception": false,
     "start_time": "2025-04-11T14:13:08.447423",
     "status": "completed"
    },
    "tags": []
   },
   "outputs": [],
   "source": [
    "sequences = pad_sequences(sequences, maxlen = sequence_length, padding='pre')\n",
    "targets = to_categorical(targets,num_classes=vocab_size)"
   ]
  },
  {
   "cell_type": "code",
   "execution_count": 15,
   "id": "0e6ed0af",
   "metadata": {
    "execution": {
     "iopub.execute_input": "2025-04-11T14:13:08.986322Z",
     "iopub.status.busy": "2025-04-11T14:13:08.985774Z",
     "iopub.status.idle": "2025-04-11T14:13:08.992667Z",
     "shell.execute_reply": "2025-04-11T14:13:08.991467Z"
    },
    "papermill": {
     "duration": 0.01567,
     "end_time": "2025-04-11T14:13:08.994532",
     "exception": false,
     "start_time": "2025-04-11T14:13:08.978862",
     "status": "completed"
    },
    "tags": []
   },
   "outputs": [
    {
     "name": "stdout",
     "output_type": "stream",
     "text": [
      "number of sequences 89650\n",
      "shape of sequences (89650, 5)\n",
      "shape of targets (89650, 9486)\n",
      "vocabulary size 9486\n"
     ]
    }
   ],
   "source": [
    "print(f'number of sequences {len(sequences)}')\n",
    "print(f'shape of sequences {sequences.shape}')\n",
    "print(f'shape of targets {targets.shape}')\n",
    "print(f'vocabulary size {vocab_size}')"
   ]
  },
  {
   "cell_type": "code",
   "execution_count": 16,
   "id": "a9e3c744",
   "metadata": {
    "execution": {
     "iopub.execute_input": "2025-04-11T14:13:09.008580Z",
     "iopub.status.busy": "2025-04-11T14:13:09.008143Z",
     "iopub.status.idle": "2025-04-11T14:13:09.058169Z",
     "shell.execute_reply": "2025-04-11T14:13:09.056713Z"
    },
    "papermill": {
     "duration": 0.059496,
     "end_time": "2025-04-11T14:13:09.060187",
     "exception": false,
     "start_time": "2025-04-11T14:13:09.000691",
     "status": "completed"
    },
    "tags": []
   },
   "outputs": [
    {
     "name": "stderr",
     "output_type": "stream",
     "text": [
      "/usr/local/lib/python3.10/dist-packages/keras/src/layers/core/embedding.py:90: UserWarning: Argument `input_length` is deprecated. Just remove it.\n",
      "  warnings.warn(\n"
     ]
    }
   ],
   "source": [
    "#building the lstm model\n",
    "model = Sequential([\n",
    "    Embedding(vocab_size, 128, input_length=sequence_length),\n",
    "    LSTM(128),\n",
    "    Dense(vocab_size, activation='softmax')\n",
    "])"
   ]
  },
  {
   "cell_type": "code",
   "execution_count": 17,
   "id": "ad14ba07",
   "metadata": {
    "execution": {
     "iopub.execute_input": "2025-04-11T14:13:09.074413Z",
     "iopub.status.busy": "2025-04-11T14:13:09.073990Z",
     "iopub.status.idle": "2025-04-11T14:13:09.090217Z",
     "shell.execute_reply": "2025-04-11T14:13:09.089213Z"
    },
    "papermill": {
     "duration": 0.025418,
     "end_time": "2025-04-11T14:13:09.091804",
     "exception": false,
     "start_time": "2025-04-11T14:13:09.066386",
     "status": "completed"
    },
    "tags": []
   },
   "outputs": [
    {
     "data": {
      "text/html": [
       "<pre style=\"white-space:pre;overflow-x:auto;line-height:normal;font-family:Menlo,'DejaVu Sans Mono',consolas,'Courier New',monospace\"><span style=\"font-weight: bold\">Model: \"sequential\"</span>\n",
       "</pre>\n"
      ],
      "text/plain": [
       "\u001b[1mModel: \"sequential\"\u001b[0m\n"
      ]
     },
     "metadata": {},
     "output_type": "display_data"
    },
    {
     "data": {
      "text/html": [
       "<pre style=\"white-space:pre;overflow-x:auto;line-height:normal;font-family:Menlo,'DejaVu Sans Mono',consolas,'Courier New',monospace\">┏━━━━━━━━━━━━━━━━━━━━━━━━━━━━━━━━━━━━━━┳━━━━━━━━━━━━━━━━━━━━━━━━━━━━━┳━━━━━━━━━━━━━━━━━┓\n",
       "┃<span style=\"font-weight: bold\"> Layer (type)                         </span>┃<span style=\"font-weight: bold\"> Output Shape                </span>┃<span style=\"font-weight: bold\">         Param # </span>┃\n",
       "┡━━━━━━━━━━━━━━━━━━━━━━━━━━━━━━━━━━━━━━╇━━━━━━━━━━━━━━━━━━━━━━━━━━━━━╇━━━━━━━━━━━━━━━━━┩\n",
       "│ embedding (<span style=\"color: #0087ff; text-decoration-color: #0087ff\">Embedding</span>)                │ ?                           │     <span style=\"color: #00af00; text-decoration-color: #00af00\">0</span> (unbuilt) │\n",
       "├──────────────────────────────────────┼─────────────────────────────┼─────────────────┤\n",
       "│ lstm (<span style=\"color: #0087ff; text-decoration-color: #0087ff\">LSTM</span>)                          │ ?                           │     <span style=\"color: #00af00; text-decoration-color: #00af00\">0</span> (unbuilt) │\n",
       "├──────────────────────────────────────┼─────────────────────────────┼─────────────────┤\n",
       "│ dense (<span style=\"color: #0087ff; text-decoration-color: #0087ff\">Dense</span>)                        │ ?                           │     <span style=\"color: #00af00; text-decoration-color: #00af00\">0</span> (unbuilt) │\n",
       "└──────────────────────────────────────┴─────────────────────────────┴─────────────────┘\n",
       "</pre>\n"
      ],
      "text/plain": [
       "┏━━━━━━━━━━━━━━━━━━━━━━━━━━━━━━━━━━━━━━┳━━━━━━━━━━━━━━━━━━━━━━━━━━━━━┳━━━━━━━━━━━━━━━━━┓\n",
       "┃\u001b[1m \u001b[0m\u001b[1mLayer (type)                        \u001b[0m\u001b[1m \u001b[0m┃\u001b[1m \u001b[0m\u001b[1mOutput Shape               \u001b[0m\u001b[1m \u001b[0m┃\u001b[1m \u001b[0m\u001b[1m        Param #\u001b[0m\u001b[1m \u001b[0m┃\n",
       "┡━━━━━━━━━━━━━━━━━━━━━━━━━━━━━━━━━━━━━━╇━━━━━━━━━━━━━━━━━━━━━━━━━━━━━╇━━━━━━━━━━━━━━━━━┩\n",
       "│ embedding (\u001b[38;5;33mEmbedding\u001b[0m)                │ ?                           │     \u001b[38;5;34m0\u001b[0m (unbuilt) │\n",
       "├──────────────────────────────────────┼─────────────────────────────┼─────────────────┤\n",
       "│ lstm (\u001b[38;5;33mLSTM\u001b[0m)                          │ ?                           │     \u001b[38;5;34m0\u001b[0m (unbuilt) │\n",
       "├──────────────────────────────────────┼─────────────────────────────┼─────────────────┤\n",
       "│ dense (\u001b[38;5;33mDense\u001b[0m)                        │ ?                           │     \u001b[38;5;34m0\u001b[0m (unbuilt) │\n",
       "└──────────────────────────────────────┴─────────────────────────────┴─────────────────┘\n"
      ]
     },
     "metadata": {},
     "output_type": "display_data"
    },
    {
     "data": {
      "text/html": [
       "<pre style=\"white-space:pre;overflow-x:auto;line-height:normal;font-family:Menlo,'DejaVu Sans Mono',consolas,'Courier New',monospace\"><span style=\"font-weight: bold\"> Total params: </span><span style=\"color: #00af00; text-decoration-color: #00af00\">0</span> (0.00 B)\n",
       "</pre>\n"
      ],
      "text/plain": [
       "\u001b[1m Total params: \u001b[0m\u001b[38;5;34m0\u001b[0m (0.00 B)\n"
      ]
     },
     "metadata": {},
     "output_type": "display_data"
    },
    {
     "data": {
      "text/html": [
       "<pre style=\"white-space:pre;overflow-x:auto;line-height:normal;font-family:Menlo,'DejaVu Sans Mono',consolas,'Courier New',monospace\"><span style=\"font-weight: bold\"> Trainable params: </span><span style=\"color: #00af00; text-decoration-color: #00af00\">0</span> (0.00 B)\n",
       "</pre>\n"
      ],
      "text/plain": [
       "\u001b[1m Trainable params: \u001b[0m\u001b[38;5;34m0\u001b[0m (0.00 B)\n"
      ]
     },
     "metadata": {},
     "output_type": "display_data"
    },
    {
     "data": {
      "text/html": [
       "<pre style=\"white-space:pre;overflow-x:auto;line-height:normal;font-family:Menlo,'DejaVu Sans Mono',consolas,'Courier New',monospace\"><span style=\"font-weight: bold\"> Non-trainable params: </span><span style=\"color: #00af00; text-decoration-color: #00af00\">0</span> (0.00 B)\n",
       "</pre>\n"
      ],
      "text/plain": [
       "\u001b[1m Non-trainable params: \u001b[0m\u001b[38;5;34m0\u001b[0m (0.00 B)\n"
      ]
     },
     "metadata": {},
     "output_type": "display_data"
    }
   ],
   "source": [
    "model.summary()"
   ]
  },
  {
   "cell_type": "code",
   "execution_count": 18,
   "id": "415eb52b",
   "metadata": {
    "execution": {
     "iopub.execute_input": "2025-04-11T14:13:09.107287Z",
     "iopub.status.busy": "2025-04-11T14:13:09.106802Z",
     "iopub.status.idle": "2025-04-11T14:13:09.128359Z",
     "shell.execute_reply": "2025-04-11T14:13:09.127304Z"
    },
    "papermill": {
     "duration": 0.031525,
     "end_time": "2025-04-11T14:13:09.130477",
     "exception": false,
     "start_time": "2025-04-11T14:13:09.098952",
     "status": "completed"
    },
    "tags": []
   },
   "outputs": [],
   "source": [
    "model.compile(loss='categorical_crossentropy',optimizer='adam',metrics=['accuracy'])"
   ]
  },
  {
   "cell_type": "code",
   "execution_count": 19,
   "id": "c54d1319",
   "metadata": {
    "execution": {
     "iopub.execute_input": "2025-04-11T14:13:09.145315Z",
     "iopub.status.busy": "2025-04-11T14:13:09.144786Z",
     "iopub.status.idle": "2025-04-11T14:56:30.037790Z",
     "shell.execute_reply": "2025-04-11T14:56:30.035978Z"
    },
    "papermill": {
     "duration": 2600.903224,
     "end_time": "2025-04-11T14:56:30.040421",
     "exception": false,
     "start_time": "2025-04-11T14:13:09.137197",
     "status": "completed"
    },
    "tags": []
   },
   "outputs": [
    {
     "name": "stdout",
     "output_type": "stream",
     "text": [
      "Epoch 1/50\n",
      "\u001b[1m1401/1401\u001b[0m \u001b[32m━━━━━━━━━━━━━━━━━━━━\u001b[0m\u001b[37m\u001b[0m \u001b[1m44s\u001b[0m 30ms/step - accuracy: 0.0754 - loss: 6.6190\n",
      "Epoch 2/50\n",
      "\u001b[1m1401/1401\u001b[0m \u001b[32m━━━━━━━━━━━━━━━━━━━━\u001b[0m\u001b[37m\u001b[0m \u001b[1m42s\u001b[0m 30ms/step - accuracy: 0.1300 - loss: 5.4540\n",
      "Epoch 3/50\n",
      "\u001b[1m1401/1401\u001b[0m \u001b[32m━━━━━━━━━━━━━━━━━━━━\u001b[0m\u001b[37m\u001b[0m \u001b[1m41s\u001b[0m 29ms/step - accuracy: 0.1562 - loss: 5.0430\n",
      "Epoch 4/50\n",
      "\u001b[1m1401/1401\u001b[0m \u001b[32m━━━━━━━━━━━━━━━━━━━━\u001b[0m\u001b[37m\u001b[0m \u001b[1m82s\u001b[0m 29ms/step - accuracy: 0.1800 - loss: 4.7054\n",
      "Epoch 5/50\n",
      "\u001b[1m1401/1401\u001b[0m \u001b[32m━━━━━━━━━━━━━━━━━━━━\u001b[0m\u001b[37m\u001b[0m \u001b[1m83s\u001b[0m 30ms/step - accuracy: 0.2045 - loss: 4.4219\n",
      "Epoch 6/50\n",
      "\u001b[1m1401/1401\u001b[0m \u001b[32m━━━━━━━━━━━━━━━━━━━━\u001b[0m\u001b[37m\u001b[0m \u001b[1m42s\u001b[0m 30ms/step - accuracy: 0.2222 - loss: 4.1997\n",
      "Epoch 7/50\n",
      "\u001b[1m1401/1401\u001b[0m \u001b[32m━━━━━━━━━━━━━━━━━━━━\u001b[0m\u001b[37m\u001b[0m \u001b[1m83s\u001b[0m 30ms/step - accuracy: 0.2459 - loss: 3.9431\n",
      "Epoch 8/50\n",
      "\u001b[1m1401/1401\u001b[0m \u001b[32m━━━━━━━━━━━━━━━━━━━━\u001b[0m\u001b[37m\u001b[0m \u001b[1m42s\u001b[0m 30ms/step - accuracy: 0.2701 - loss: 3.7295\n",
      "Epoch 9/50\n",
      "\u001b[1m1401/1401\u001b[0m \u001b[32m━━━━━━━━━━━━━━━━━━━━\u001b[0m\u001b[37m\u001b[0m \u001b[1m41s\u001b[0m 30ms/step - accuracy: 0.2960 - loss: 3.5177\n",
      "Epoch 10/50\n",
      "\u001b[1m1401/1401\u001b[0m \u001b[32m━━━━━━━━━━━━━━━━━━━━\u001b[0m\u001b[37m\u001b[0m \u001b[1m41s\u001b[0m 30ms/step - accuracy: 0.3301 - loss: 3.3035\n",
      "Epoch 11/50\n",
      "\u001b[1m1401/1401\u001b[0m \u001b[32m━━━━━━━━━━━━━━━━━━━━\u001b[0m\u001b[37m\u001b[0m \u001b[1m90s\u001b[0m 35ms/step - accuracy: 0.3595 - loss: 3.1074\n",
      "Epoch 12/50\n",
      "\u001b[1m1401/1401\u001b[0m \u001b[32m━━━━━━━━━━━━━━━━━━━━\u001b[0m\u001b[37m\u001b[0m \u001b[1m44s\u001b[0m 31ms/step - accuracy: 0.3959 - loss: 2.9081\n",
      "Epoch 13/50\n",
      "\u001b[1m1401/1401\u001b[0m \u001b[32m━━━━━━━━━━━━━━━━━━━━\u001b[0m\u001b[37m\u001b[0m \u001b[1m42s\u001b[0m 30ms/step - accuracy: 0.4247 - loss: 2.7380\n",
      "Epoch 14/50\n",
      "\u001b[1m1401/1401\u001b[0m \u001b[32m━━━━━━━━━━━━━━━━━━━━\u001b[0m\u001b[37m\u001b[0m \u001b[1m43s\u001b[0m 31ms/step - accuracy: 0.4580 - loss: 2.5664\n",
      "Epoch 15/50\n",
      "\u001b[1m1401/1401\u001b[0m \u001b[32m━━━━━━━━━━━━━━━━━━━━\u001b[0m\u001b[37m\u001b[0m \u001b[1m44s\u001b[0m 31ms/step - accuracy: 0.4874 - loss: 2.4111\n",
      "Epoch 16/50\n",
      "\u001b[1m1401/1401\u001b[0m \u001b[32m━━━━━━━━━━━━━━━━━━━━\u001b[0m\u001b[37m\u001b[0m \u001b[1m82s\u001b[0m 31ms/step - accuracy: 0.5234 - loss: 2.2387\n",
      "Epoch 17/50\n",
      "\u001b[1m1401/1401\u001b[0m \u001b[32m━━━━━━━━━━━━━━━━━━━━\u001b[0m\u001b[37m\u001b[0m \u001b[1m43s\u001b[0m 31ms/step - accuracy: 0.5522 - loss: 2.1052\n",
      "Epoch 18/50\n",
      "\u001b[1m1401/1401\u001b[0m \u001b[32m━━━━━━━━━━━━━━━━━━━━\u001b[0m\u001b[37m\u001b[0m \u001b[1m42s\u001b[0m 30ms/step - accuracy: 0.5821 - loss: 1.9598\n",
      "Epoch 19/50\n",
      "\u001b[1m1401/1401\u001b[0m \u001b[32m━━━━━━━━━━━━━━━━━━━━\u001b[0m\u001b[37m\u001b[0m \u001b[1m82s\u001b[0m 31ms/step - accuracy: 0.6073 - loss: 1.8418\n",
      "Epoch 20/50\n",
      "\u001b[1m1401/1401\u001b[0m \u001b[32m━━━━━━━━━━━━━━━━━━━━\u001b[0m\u001b[37m\u001b[0m \u001b[1m43s\u001b[0m 30ms/step - accuracy: 0.6312 - loss: 1.7194\n",
      "Epoch 21/50\n",
      "\u001b[1m1401/1401\u001b[0m \u001b[32m━━━━━━━━━━━━━━━━━━━━\u001b[0m\u001b[37m\u001b[0m \u001b[1m43s\u001b[0m 31ms/step - accuracy: 0.6561 - loss: 1.6060\n",
      "Epoch 22/50\n",
      "\u001b[1m1401/1401\u001b[0m \u001b[32m━━━━━━━━━━━━━━━━━━━━\u001b[0m\u001b[37m\u001b[0m \u001b[1m42s\u001b[0m 30ms/step - accuracy: 0.6774 - loss: 1.5037\n",
      "Epoch 23/50\n",
      "\u001b[1m1401/1401\u001b[0m \u001b[32m━━━━━━━━━━━━━━━━━━━━\u001b[0m\u001b[37m\u001b[0m \u001b[1m83s\u001b[0m 30ms/step - accuracy: 0.7003 - loss: 1.4048\n",
      "Epoch 24/50\n",
      "\u001b[1m1401/1401\u001b[0m \u001b[32m━━━━━━━━━━━━━━━━━━━━\u001b[0m\u001b[37m\u001b[0m \u001b[1m45s\u001b[0m 32ms/step - accuracy: 0.7174 - loss: 1.3196\n",
      "Epoch 25/50\n",
      "\u001b[1m1401/1401\u001b[0m \u001b[32m━━━━━━━━━━━━━━━━━━━━\u001b[0m\u001b[37m\u001b[0m \u001b[1m85s\u001b[0m 34ms/step - accuracy: 0.7380 - loss: 1.2308\n",
      "Epoch 26/50\n",
      "\u001b[1m1401/1401\u001b[0m \u001b[32m━━━━━━━━━━━━━━━━━━━━\u001b[0m\u001b[37m\u001b[0m \u001b[1m44s\u001b[0m 32ms/step - accuracy: 0.7556 - loss: 1.1492\n",
      "Epoch 27/50\n",
      "\u001b[1m1401/1401\u001b[0m \u001b[32m━━━━━━━━━━━━━━━━━━━━\u001b[0m\u001b[37m\u001b[0m \u001b[1m80s\u001b[0m 30ms/step - accuracy: 0.7724 - loss: 1.0718\n",
      "Epoch 28/50\n",
      "\u001b[1m1401/1401\u001b[0m \u001b[32m━━━━━━━━━━━━━━━━━━━━\u001b[0m\u001b[37m\u001b[0m \u001b[1m44s\u001b[0m 31ms/step - accuracy: 0.7898 - loss: 0.9920\n",
      "Epoch 29/50\n",
      "\u001b[1m1401/1401\u001b[0m \u001b[32m━━━━━━━━━━━━━━━━━━━━\u001b[0m\u001b[37m\u001b[0m \u001b[1m44s\u001b[0m 31ms/step - accuracy: 0.8049 - loss: 0.9298\n",
      "Epoch 30/50\n",
      "\u001b[1m1401/1401\u001b[0m \u001b[32m━━━━━━━━━━━━━━━━━━━━\u001b[0m\u001b[37m\u001b[0m \u001b[1m44s\u001b[0m 31ms/step - accuracy: 0.8184 - loss: 0.8691\n",
      "Epoch 31/50\n",
      "\u001b[1m1401/1401\u001b[0m \u001b[32m━━━━━━━━━━━━━━━━━━━━\u001b[0m\u001b[37m\u001b[0m \u001b[1m43s\u001b[0m 30ms/step - accuracy: 0.8272 - loss: 0.8232\n",
      "Epoch 32/50\n",
      "\u001b[1m1401/1401\u001b[0m \u001b[32m━━━━━━━━━━━━━━━━━━━━\u001b[0m\u001b[37m\u001b[0m \u001b[1m82s\u001b[0m 31ms/step - accuracy: 0.8422 - loss: 0.7631\n",
      "Epoch 33/50\n",
      "\u001b[1m1401/1401\u001b[0m \u001b[32m━━━━━━━━━━━━━━━━━━━━\u001b[0m\u001b[37m\u001b[0m \u001b[1m42s\u001b[0m 30ms/step - accuracy: 0.8502 - loss: 0.7197\n",
      "Epoch 34/50\n",
      "\u001b[1m1401/1401\u001b[0m \u001b[32m━━━━━━━━━━━━━━━━━━━━\u001b[0m\u001b[37m\u001b[0m \u001b[1m43s\u001b[0m 30ms/step - accuracy: 0.8604 - loss: 0.6695\n",
      "Epoch 35/50\n",
      "\u001b[1m1401/1401\u001b[0m \u001b[32m━━━━━━━━━━━━━━━━━━━━\u001b[0m\u001b[37m\u001b[0m \u001b[1m41s\u001b[0m 29ms/step - accuracy: 0.8718 - loss: 0.6250\n",
      "Epoch 36/50\n",
      "\u001b[1m1401/1401\u001b[0m \u001b[32m━━━━━━━━━━━━━━━━━━━━\u001b[0m\u001b[37m\u001b[0m \u001b[1m42s\u001b[0m 30ms/step - accuracy: 0.8800 - loss: 0.5852\n",
      "Epoch 37/50\n",
      "\u001b[1m1401/1401\u001b[0m \u001b[32m━━━━━━━━━━━━━━━━━━━━\u001b[0m\u001b[37m\u001b[0m \u001b[1m84s\u001b[0m 31ms/step - accuracy: 0.8863 - loss: 0.5510\n",
      "Epoch 38/50\n",
      "\u001b[1m1401/1401\u001b[0m \u001b[32m━━━━━━━━━━━━━━━━━━━━\u001b[0m\u001b[37m\u001b[0m \u001b[1m42s\u001b[0m 30ms/step - accuracy: 0.8944 - loss: 0.5209\n",
      "Epoch 39/50\n",
      "\u001b[1m1401/1401\u001b[0m \u001b[32m━━━━━━━━━━━━━━━━━━━━\u001b[0m\u001b[37m\u001b[0m \u001b[1m43s\u001b[0m 30ms/step - accuracy: 0.9006 - loss: 0.4856\n",
      "Epoch 40/50\n",
      "\u001b[1m1401/1401\u001b[0m \u001b[32m━━━━━━━━━━━━━━━━━━━━\u001b[0m\u001b[37m\u001b[0m \u001b[1m44s\u001b[0m 32ms/step - accuracy: 0.9062 - loss: 0.4578\n",
      "Epoch 41/50\n",
      "\u001b[1m1401/1401\u001b[0m \u001b[32m━━━━━━━━━━━━━━━━━━━━\u001b[0m\u001b[37m\u001b[0m \u001b[1m43s\u001b[0m 31ms/step - accuracy: 0.9122 - loss: 0.4311\n",
      "Epoch 42/50\n",
      "\u001b[1m1401/1401\u001b[0m \u001b[32m━━━━━━━━━━━━━━━━━━━━\u001b[0m\u001b[37m\u001b[0m \u001b[1m43s\u001b[0m 31ms/step - accuracy: 0.9146 - loss: 0.4148\n",
      "Epoch 43/50\n",
      "\u001b[1m1401/1401\u001b[0m \u001b[32m━━━━━━━━━━━━━━━━━━━━\u001b[0m\u001b[37m\u001b[0m \u001b[1m45s\u001b[0m 32ms/step - accuracy: 0.9243 - loss: 0.3800\n",
      "Epoch 44/50\n",
      "\u001b[1m1401/1401\u001b[0m \u001b[32m━━━━━━━━━━━━━━━━━━━━\u001b[0m\u001b[37m\u001b[0m \u001b[1m43s\u001b[0m 31ms/step - accuracy: 0.9268 - loss: 0.3643\n",
      "Epoch 45/50\n",
      "\u001b[1m1401/1401\u001b[0m \u001b[32m━━━━━━━━━━━━━━━━━━━━\u001b[0m\u001b[37m\u001b[0m \u001b[1m43s\u001b[0m 31ms/step - accuracy: 0.9322 - loss: 0.3365\n",
      "Epoch 46/50\n",
      "\u001b[1m1401/1401\u001b[0m \u001b[32m━━━━━━━━━━━━━━━━━━━━\u001b[0m\u001b[37m\u001b[0m \u001b[1m43s\u001b[0m 31ms/step - accuracy: 0.9325 - loss: 0.3258\n",
      "Epoch 47/50\n",
      "\u001b[1m1401/1401\u001b[0m \u001b[32m━━━━━━━━━━━━━━━━━━━━\u001b[0m\u001b[37m\u001b[0m \u001b[1m45s\u001b[0m 32ms/step - accuracy: 0.9415 - loss: 0.3004\n",
      "Epoch 48/50\n",
      "\u001b[1m1401/1401\u001b[0m \u001b[32m━━━━━━━━━━━━━━━━━━━━\u001b[0m\u001b[37m\u001b[0m \u001b[1m44s\u001b[0m 31ms/step - accuracy: 0.9427 - loss: 0.2878\n",
      "Epoch 49/50\n",
      "\u001b[1m1401/1401\u001b[0m \u001b[32m━━━━━━━━━━━━━━━━━━━━\u001b[0m\u001b[37m\u001b[0m \u001b[1m44s\u001b[0m 31ms/step - accuracy: 0.9480 - loss: 0.2644\n",
      "Epoch 50/50\n",
      "\u001b[1m1401/1401\u001b[0m \u001b[32m━━━━━━━━━━━━━━━━━━━━\u001b[0m\u001b[37m\u001b[0m \u001b[1m43s\u001b[0m 31ms/step - accuracy: 0.9484 - loss: 0.2616\n"
     ]
    },
    {
     "data": {
      "text/plain": [
       "<keras.src.callbacks.history.History at 0x780b313e6860>"
      ]
     },
     "execution_count": 19,
     "metadata": {},
     "output_type": "execute_result"
    }
   ],
   "source": [
    "model.fit(sequences,targets,epochs=50,batch_size=64)"
   ]
  },
  {
   "cell_type": "code",
   "execution_count": 20,
   "id": "7ccde68d",
   "metadata": {
    "execution": {
     "iopub.execute_input": "2025-04-11T14:56:34.553953Z",
     "iopub.status.busy": "2025-04-11T14:56:34.553571Z",
     "iopub.status.idle": "2025-04-11T14:56:34.559715Z",
     "shell.execute_reply": "2025-04-11T14:56:34.558586Z"
    },
    "papermill": {
     "duration": 2.209437,
     "end_time": "2025-04-11T14:56:34.561670",
     "exception": false,
     "start_time": "2025-04-11T14:56:32.352233",
     "status": "completed"
    },
    "tags": []
   },
   "outputs": [],
   "source": [
    "def predict_word(seed_text):\n",
    "    seed_text = word_tokenize(seed_text)\n",
    "    seed_sequence = [word_index[word] for word in seed_text[-sequence_length:]]\n",
    "    padded_seq = pad_sequences([seed_sequence], maxlen=sequence_length, padding='pre')\n",
    "    prediction = model.predict(padded_seq)\n",
    "    prediction_index = np.argmax(prediction)\n",
    "    prediction_word = index_word[prediction_index]\n",
    "    return prediction_word"
   ]
  },
  {
   "cell_type": "code",
   "execution_count": 21,
   "id": "89349c86",
   "metadata": {
    "execution": {
     "iopub.execute_input": "2025-04-11T14:56:39.180306Z",
     "iopub.status.busy": "2025-04-11T14:56:39.179852Z",
     "iopub.status.idle": "2025-04-11T14:56:39.476500Z",
     "shell.execute_reply": "2025-04-11T14:56:39.475327Z"
    },
    "papermill": {
     "duration": 2.742209,
     "end_time": "2025-04-11T14:56:39.478474",
     "exception": false,
     "start_time": "2025-04-11T14:56:36.736265",
     "status": "completed"
    },
    "tags": []
   },
   "outputs": [
    {
     "name": "stdout",
     "output_type": "stream",
     "text": [
      "\u001b[1m1/1\u001b[0m \u001b[32m━━━━━━━━━━━━━━━━━━━━\u001b[0m\u001b[37m\u001b[0m \u001b[1m0s\u001b[0m 229ms/step\n",
      "Next word: for\n",
      "incomplete sentence: The Adventures is\n",
      "sentence after completion: The Adventures is for\n"
     ]
    }
   ],
   "source": [
    "seed_text = \"The Adventures is\"\n",
    "next_word = predict_word(seed_text)\n",
    "print(f\"Next word: {next_word}\")\n",
    "print(f'incomplete sentence: {seed_text}')\n",
    "print(f'sentence after completion: {seed_text + \" \"+next_word}')"
   ]
  },
  {
   "cell_type": "code",
   "execution_count": 22,
   "id": "455afab7",
   "metadata": {
    "execution": {
     "iopub.execute_input": "2025-04-11T14:56:44.032045Z",
     "iopub.status.busy": "2025-04-11T14:56:44.031416Z",
     "iopub.status.idle": "2025-04-11T14:56:44.157563Z",
     "shell.execute_reply": "2025-04-11T14:56:44.156406Z"
    },
    "papermill": {
     "duration": 2.331863,
     "end_time": "2025-04-11T14:56:44.159769",
     "exception": false,
     "start_time": "2025-04-11T14:56:41.827906",
     "status": "completed"
    },
    "tags": []
   },
   "outputs": [],
   "source": [
    "model.save('next_word_prediction.h5')"
   ]
  },
  {
   "cell_type": "code",
   "execution_count": 23,
   "id": "8f9b8331",
   "metadata": {
    "execution": {
     "iopub.execute_input": "2025-04-11T14:56:48.695505Z",
     "iopub.status.busy": "2025-04-11T14:56:48.694927Z",
     "iopub.status.idle": "2025-04-11T14:56:48.769891Z",
     "shell.execute_reply": "2025-04-11T14:56:48.768594Z"
    },
    "papermill": {
     "duration": 2.342272,
     "end_time": "2025-04-11T14:56:48.771954",
     "exception": false,
     "start_time": "2025-04-11T14:56:46.429682",
     "status": "completed"
    },
    "tags": []
   },
   "outputs": [],
   "source": [
    "model.save_weights('next_word.weights.h5')"
   ]
  },
  {
   "cell_type": "code",
   "execution_count": null,
   "id": "64b9b3da",
   "metadata": {
    "papermill": {
     "duration": 2.143288,
     "end_time": "2025-04-11T14:56:53.074295",
     "exception": false,
     "start_time": "2025-04-11T14:56:50.931007",
     "status": "completed"
    },
    "tags": []
   },
   "outputs": [],
   "source": []
  }
 ],
 "metadata": {
  "kaggle": {
   "accelerator": "none",
   "dataSources": [
    {
     "datasetId": 2389252,
     "sourceId": 4032467,
     "sourceType": "datasetVersion"
    }
   ],
   "dockerImageVersionId": 30886,
   "isGpuEnabled": false,
   "isInternetEnabled": true,
   "language": "python",
   "sourceType": "notebook"
  },
  "kernelspec": {
   "display_name": "Python 3",
   "language": "python",
   "name": "python3"
  },
  "language_info": {
   "codemirror_mode": {
    "name": "ipython",
    "version": 3
   },
   "file_extension": ".py",
   "mimetype": "text/x-python",
   "name": "python",
   "nbconvert_exporter": "python",
   "pygments_lexer": "ipython3",
   "version": "3.10.12"
  },
  "papermill": {
   "default_parameters": {},
   "duration": 2655.839957,
   "end_time": "2025-04-11T14:56:58.204577",
   "environment_variables": {},
   "exception": null,
   "input_path": "__notebook__.ipynb",
   "output_path": "__notebook__.ipynb",
   "parameters": {},
   "start_time": "2025-04-11T14:12:42.364620",
   "version": "2.6.0"
  }
 },
 "nbformat": 4,
 "nbformat_minor": 5
}
